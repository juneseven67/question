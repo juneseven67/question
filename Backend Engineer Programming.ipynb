{
 "cells": [
  {
   "cell_type": "code",
   "execution_count": 38,
   "metadata": {},
   "outputs": [],
   "source": [
    "import math\n",
    "import matplotlib.pyplot as plt"
   ]
  },
  {
   "cell_type": "markdown",
   "metadata": {},
   "source": [
    "# 1.Count"
   ]
  },
  {
   "cell_type": "code",
   "execution_count": 1,
   "metadata": {},
   "outputs": [],
   "source": [
    "urls = [\n",
    "\"http://www.google.com/a.txt\",\n",
    "\"http://www.google.com.tw/a.txt\",\n",
    "\"http://www.google.com/download/c.jpg\",\n",
    "\"http://www.google.co.jp/a.txt\",\n",
    "\"http://www.google.com/b.txt\",\n",
    "\"https://facebook.com/movie/b.txt\",\n",
    "\"http://yahoo.com/123/000/c.jpg\",\n",
    "\"http://gliacloud.com/haha.png\",\n",
    "]"
   ]
  },
  {
   "cell_type": "code",
   "execution_count": 3,
   "metadata": {},
   "outputs": [
    {
     "data": {
      "text/plain": [
       "['a.txt', 'a.txt', 'c.jpg', 'a.txt', 'b.txt', 'b.txt', 'c.jpg', 'a.png']"
      ]
     },
     "execution_count": 3,
     "metadata": {},
     "output_type": "execute_result"
    }
   ],
   "source": [
    "urls = [url[-5:] for url in urls]\n",
    "urls"
   ]
  },
  {
   "cell_type": "code",
   "execution_count": 6,
   "metadata": {},
   "outputs": [],
   "source": [
    "url_dict={}\n",
    "for url in set(urls):\n",
    "    url_sum = 0\n",
    "    \n",
    "    for i in urls:\n",
    "        if url == i:\n",
    "            url_sum+=1\n",
    "    url_dict[url]=url_sum"
   ]
  },
  {
   "cell_type": "code",
   "execution_count": 8,
   "metadata": {},
   "outputs": [
    {
     "data": {
      "text/plain": [
       "{'b.txt': 2, 'a.png': 1, 'c.jpg': 2, 'a.txt': 3}"
      ]
     },
     "execution_count": 8,
     "metadata": {},
     "output_type": "execute_result"
    }
   ],
   "source": [
    "url_dict"
   ]
  },
  {
   "cell_type": "markdown",
   "metadata": {},
   "source": [
    "# 2.Integration"
   ]
  },
  {
   "cell_type": "code",
   "execution_count": 97,
   "metadata": {},
   "outputs": [
    {
     "name": "stdout",
     "output_type": "stream",
     "text": [
      "1.0453229787866565\n"
     ]
    }
   ],
   "source": [
    "def anonymous(x):\n",
    "    return x**2 + 1\n",
    "\n",
    "def integrate(fun, start, end):\n",
    "    step = 0.1\n",
    "    intercept = start\n",
    "    area = 0\n",
    "    while intercept < end:\n",
    "        intercept += step\n",
    "        ''' your work here '''\n",
    "        area=math.log(anonymous(math.sqrt(intercept)), 10)\n",
    "    return area\n",
    "\n",
    "print(integrate(anonymous, 0, 10))"
   ]
  },
  {
   "cell_type": "code",
   "execution_count": 98,
   "metadata": {
    "scrolled": true
   },
   "outputs": [
    {
     "data": {
      "text/plain": [
       "[<matplotlib.lines.Line2D at 0x2039af6dc88>]"
      ]
     },
     "execution_count": 98,
     "metadata": {},
     "output_type": "execute_result"
    },
    {
     "data": {
      "image/png": "[encoded data removed]",
      "text/plain": [
       "<Figure size 432x288 with 1 Axes>"
      ]
     },
     "metadata": {},
     "output_type": "display_data"
    }
   ],
   "source": [
    "plt.plot([ math.log(anonymous(math.sqrt(i/10.)), 10) for i in range(0, 101, 1)])"
   ]
  },
  {
   "cell_type": "markdown",
   "metadata": {},
   "source": [
    "# 3.Multiples of 3 and 5."
   ]
  },
  {
   "cell_type": "code",
   "execution_count": 17,
   "metadata": {},
   "outputs": [],
   "source": [
    "def sum_multify_35(num):\n",
    "    total=0\n",
    "    for i in range(num):\n",
    "        if i%3==0 or i%5==0:\n",
    "            total+=i\n",
    "    return total"
   ]
  },
  {
   "cell_type": "code",
   "execution_count": 20,
   "metadata": {},
   "outputs": [
    {
     "data": {
      "text/plain": [
       "23"
      ]
     },
     "execution_count": 20,
     "metadata": {},
     "output_type": "execute_result"
    }
   ],
   "source": [
    "sum_multify_35(10)"
   ]
  },
  {
   "cell_type": "code",
   "execution_count": 19,
   "metadata": {},
   "outputs": [
    {
     "data": {
      "text/plain": [
       "233168"
      ]
     },
     "execution_count": 19,
     "metadata": {},
     "output_type": "execute_result"
    }
   ],
   "source": [
    "sum_multify_35(1000)"
   ]
  },
  {
   "cell_type": "markdown",
   "metadata": {},
   "source": [
    "# Part.2 crawPTT"
   ]
  },
  {
   "cell_type": "code",
   "execution_count": 110,
   "metadata": {},
   "outputs": [],
   "source": [
    "from selenium import webdriver\n",
    "from selenium import common"
   ]
  },
  {
   "cell_type": "code",
   "execution_count": 112,
   "metadata": {},
   "outputs": [],
   "source": [
    "driver = webdriver.Chrome('../GoogleDrive/driver/chromedriver.exe')\n",
    "driver.get('https://www.ptt.cc/bbs/Cross_Life/M.1518488374.A.21E.html')\n",
    "driver.minimize_window()\n",
    "driver.maximize_window()"
   ]
  },
  {
   "cell_type": "code",
   "execution_count": 119,
   "metadata": {},
   "outputs": [],
   "source": [
    "author = driver.find_element_by_xpath('//*[@id=\"main-content\"]/div[1]/span[2]')\n",
    "author_text = author.text"
   ]
  },
  {
   "cell_type": "code",
   "execution_count": 120,
   "metadata": {},
   "outputs": [],
   "source": [
    "title = driver.find_element_by_xpath('//*[@id=\"main-content\"]/div[3]')\n",
    "title_text = title.text"
   ]
  },
  {
   "cell_type": "code",
   "execution_count": 121,
   "metadata": {},
   "outputs": [],
   "source": [
    "block = driver.find_element_by_xpath('//*[@id=\"main-content\"]/div[2]/span[2]')\n",
    "block_text = block.text"
   ]
  },
  {
   "cell_type": "code",
   "execution_count": 122,
   "metadata": {},
   "outputs": [],
   "source": [
    "time = driver.find_element_by_xpath('//*[@id=\"main-content\"]/div[4]/span[2]')\n",
    "time_text = time.text"
   ]
  },
  {
   "cell_type": "code",
   "execution_count": 123,
   "metadata": {},
   "outputs": [],
   "source": [
    "lst = ['article-metaline-right', 'article-metaline', 'f2', 'push']\n",
    "for _ in range(3):\n",
    "    for i in lst:\n",
    "        try:\n",
    "            driver.execute_script(\"a=document.getElementsByClassName(\\'{}\\')\".format(i))\n",
    "            driver.execute_script('for (i=0;i<=a.length;i++){a[i].parentNode.removeChild(a[i])}')\n",
    "            if i=='article-metaline':\n",
    "                driver.execute_script('for (i=0;i<=a.length;i++){a[i].parentNode.removeChild(a[i])}')\n",
    "        except :\n",
    "            pass\n",
    "content = driver.find_element_by_xpath('//*[@id=\"main-content\"]')\n",
    "content_text = content.text"
   ]
  },
  {
   "cell_type": "code",
   "execution_count": 124,
   "metadata": {},
   "outputs": [
    {
     "name": "stdout",
     "output_type": "stream",
     "text": [
      "作者 saltlake (SaltLake)\n",
      "標題 標題[問題] 大陸過年的特色活動\n",
      "看板 Cross_Life\n",
      "日期 Tue Feb 13 10:19:32 2018\n",
      "內文   傳統活動之一是放鞭炮，但是現在似乎被禁了?\n",
      "\n",
      "  另外就是家人圍爐看央視的春晚，但自改革至今\n",
      "\n",
      "  ，各種新電台和網路興起等因素，春晚的光芒(素\n",
      "\n",
      "  質)似乎大為下降，還是大陸多數人會做的過年活\n",
      "\n",
      "  動之一嗎?\n",
      "\n",
      "  除此之外，現在被認同是過年特色活動，而且還是\n",
      "\n",
      "  多數大陸人歡迎或會做的活動，有啥?\n",
      "\n",
      "--\n"
     ]
    }
   ],
   "source": [
    "print('作者', author_text)\n",
    "print('標題',title_text)\n",
    "print('看板', block_text)\n",
    "print('日期', time_text)\n",
    "print('內文', content_text)"
   ]
  },
  {
   "cell_type": "code",
   "execution_count": null,
   "metadata": {},
   "outputs": [],
   "source": []
  }
 ],
 "metadata": {
  "kernelspec": {
   "display_name": "Python 3",
   "language": "python",
   "name": "python3"
  },
  "language_info": {
   "codemirror_mode": {
    "name": "ipython",
    "version": 3
   },
   "file_extension": ".py",
   "mimetype": "text/x-python",
   "name": "python",
   "nbconvert_exporter": "python",
   "pygments_lexer": "ipython3",
   "version": "3.6.5"
  }
 },
 "nbformat": 4,
 "nbformat_minor": 2
}
